{
  "nbformat": 4,
  "nbformat_minor": 0,
  "metadata": {
    "colab": {
      "provenance": [],
      "toc_visible": true,
      "authorship_tag": "ABX9TyPh0T7Hfka0NmMIlPf4rWAK",
      "include_colab_link": true
    },
    "kernelspec": {
      "name": "python3",
      "display_name": "Python 3"
    },
    "language_info": {
      "name": "python"
    }
  },
  "cells": [
    {
      "cell_type": "markdown",
      "metadata": {
        "id": "view-in-github",
        "colab_type": "text"
      },
      "source": [
        "<a href=\"https://colab.research.google.com/github/Bhandari007/EPL_Analysis/blob/main/EPL_Analysis.ipynb\" target=\"_parent\"><img src=\"https://colab.research.google.com/assets/colab-badge.svg\" alt=\"Open In Colab\"/></a>"
      ]
    },
    {
      "cell_type": "markdown",
      "source": [
        "# Data Analysis on English Premier League\n",
        "> This notebook contains analysis on English Premier League. It is the highest level of men's football league points. You can find more information regarding by clicking below:<br><a href = \"https://en.wikipedia.org/wiki/Premier_League\">More Information</a> <br>\n"
      ],
      "metadata": {
        "id": "9_NmExF0qzTE"
      }
    },
    {
      "cell_type": "markdown",
      "source": [
        "# Data Collection\n",
        "I have downloaded the data using the Kaggle API.\n",
        "It is available on <a href = \"https://www.kaggle.com/datasets/evangower/premier-league-matches-19922022?select=eplmatches.csv\">Kaggle</a>.\n",
        "<br>\n",
        "**Reference:** https://www.analyticsvidhya.com/blog/2021/06/how-to-load-kaggle-datasets-directly-into-google-colab/"
      ],
      "metadata": {
        "id": "jxGOGDqksQSr"
      }
    },
    {
      "cell_type": "code",
      "execution_count": 1,
      "metadata": {
        "colab": {
          "base_uri": "https://localhost:8080/"
        },
        "id": "rEVSRt70ovLH",
        "outputId": "48797d32-a2f1-4751-b2d1-f69b3e2ec7cd"
      },
      "outputs": [
        {
          "output_type": "stream",
          "name": "stdout",
          "text": [
            "Looking in indexes: https://pypi.org/simple, https://us-python.pkg.dev/colab-wheels/public/simple/\n",
            "Requirement already satisfied: kaggle in /usr/local/lib/python3.7/dist-packages (1.5.12)\n",
            "Requirement already satisfied: urllib3 in /usr/local/lib/python3.7/dist-packages (from kaggle) (1.24.3)\n",
            "Requirement already satisfied: tqdm in /usr/local/lib/python3.7/dist-packages (from kaggle) (4.64.1)\n",
            "Requirement already satisfied: requests in /usr/local/lib/python3.7/dist-packages (from kaggle) (2.23.0)\n",
            "Requirement already satisfied: six>=1.10 in /usr/local/lib/python3.7/dist-packages (from kaggle) (1.15.0)\n",
            "Requirement already satisfied: python-dateutil in /usr/local/lib/python3.7/dist-packages (from kaggle) (2.8.2)\n",
            "Requirement already satisfied: certifi in /usr/local/lib/python3.7/dist-packages (from kaggle) (2022.9.24)\n",
            "Requirement already satisfied: python-slugify in /usr/local/lib/python3.7/dist-packages (from kaggle) (6.1.2)\n",
            "Requirement already satisfied: text-unidecode>=1.3 in /usr/local/lib/python3.7/dist-packages (from python-slugify->kaggle) (1.3)\n",
            "Requirement already satisfied: idna<3,>=2.5 in /usr/local/lib/python3.7/dist-packages (from requests->kaggle) (2.10)\n",
            "Requirement already satisfied: chardet<4,>=3.0.2 in /usr/local/lib/python3.7/dist-packages (from requests->kaggle) (3.0.4)\n"
          ]
        }
      ],
      "source": [
        "!pip install kaggle"
      ]
    },
    {
      "cell_type": "code",
      "source": [
        "!mkdir ~/.kaggle"
      ],
      "metadata": {
        "colab": {
          "base_uri": "https://localhost:8080/"
        },
        "id": "rX9L9DH3pR-v",
        "outputId": "134720a7-110e-4b7e-f052-87d539bff943"
      },
      "execution_count": 5,
      "outputs": [
        {
          "output_type": "stream",
          "name": "stdout",
          "text": [
            "mkdir: cannot create directory ‘/root/.kaggle’: File exists\n"
          ]
        }
      ]
    },
    {
      "cell_type": "code",
      "source": [
        "!cp kaggle.json ~/.kaggle/"
      ],
      "metadata": {
        "id": "SE5mHN95pV48"
      },
      "execution_count": 6,
      "outputs": []
    },
    {
      "cell_type": "code",
      "source": [
        "! chmod 600 ~/.kaggle/kaggle.json"
      ],
      "metadata": {
        "id": "3SbII7UApd7l"
      },
      "execution_count": 8,
      "outputs": []
    },
    {
      "cell_type": "code",
      "source": [
        "! kaggle datasets download evangower/premier-league-matches-19922022?select=eplmatches.csv"
      ],
      "metadata": {
        "colab": {
          "base_uri": "https://localhost:8080/"
        },
        "id": "BA-gscowpvv1",
        "outputId": "30d628b0-d660-412c-d52f-33cb55a9caf8"
      },
      "execution_count": 10,
      "outputs": [
        {
          "output_type": "stream",
          "name": "stdout",
          "text": [
            "404 - Not Found\n"
          ]
        }
      ]
    },
    {
      "cell_type": "code",
      "source": [
        "! kaggle datasets download -d evangower/premier-league-matches-19922022"
      ],
      "metadata": {
        "colab": {
          "base_uri": "https://localhost:8080/"
        },
        "id": "JAg8RTq8qDTn",
        "outputId": "045fbefc-e641-4e57-cb00-acc6b310e1a5"
      },
      "execution_count": 11,
      "outputs": [
        {
          "output_type": "stream",
          "name": "stdout",
          "text": [
            "Downloading premier-league-matches-19922022.zip to /content\n",
            "\r  0% 0.00/77.8k [00:00<?, ?B/s]\n",
            "\r100% 77.8k/77.8k [00:00<00:00, 83.7MB/s]\n"
          ]
        }
      ]
    },
    {
      "cell_type": "code",
      "source": [
        "! unzip premier-league-matches-19922022"
      ],
      "metadata": {
        "colab": {
          "base_uri": "https://localhost:8080/"
        },
        "id": "Q-pAit8LqaZl",
        "outputId": "22d8c801-9160-458d-db56-461dfe83a16a"
      },
      "execution_count": 12,
      "outputs": [
        {
          "output_type": "stream",
          "name": "stdout",
          "text": [
            "Archive:  premier-league-matches-19922022.zip\n",
            "  inflating: eplmatches.csv          \n"
          ]
        }
      ]
    },
    {
      "cell_type": "code",
      "source": [],
      "metadata": {
        "id": "Xn1klB7HqoWs"
      },
      "execution_count": null,
      "outputs": []
    },
    {
      "cell_type": "markdown",
      "source": [
        "# Importing packages\n",
        "\n",
        "I will be using the following packages for analyzing the dataset.\n",
        "* NumPy -- a fundamental package for scientific computing\n",
        "* pandas -- a open source data analysis and manipulation tool\n",
        "* matplotlib -- a comprehensive library for static, animated and interactive visualization\n",
        "* seaborn -- a data visualization library based on matplotlib"
      ],
      "metadata": {
        "id": "6sHvhSdWszwS"
      }
    },
    {
      "cell_type": "code",
      "source": [
        "import numpy as np\n",
        "import pandas as pd\n",
        "import matplotlib.pyplot as plt\n",
        "import seaborn as sns\n",
        "%matplotlib inline"
      ],
      "metadata": {
        "id": "21lLdhGKs32d"
      },
      "execution_count": 15,
      "outputs": []
    },
    {
      "cell_type": "markdown",
      "source": [
        "# Importing Data"
      ],
      "metadata": {
        "id": "UK6MgaeRtEny"
      }
    },
    {
      "cell_type": "code",
      "source": [
        "df = pd.read_csv(\"eplmatches.csv\")"
      ],
      "metadata": {
        "id": "qOhDDeejuQbX"
      },
      "execution_count": 29,
      "outputs": []
    },
    {
      "cell_type": "code",
      "source": [
        "#  A sanity check\n",
        "df.shape"
      ],
      "metadata": {
        "colab": {
          "base_uri": "https://localhost:8080/"
        },
        "id": "yc5VQg25uXt_",
        "outputId": "8771a1b5-1cdf-4c99-a88c-90288d8ae8a7"
      },
      "execution_count": 30,
      "outputs": [
        {
          "output_type": "execute_result",
          "data": {
            "text/plain": [
              "(11646, 8)"
            ]
          },
          "metadata": {},
          "execution_count": 30
        }
      ]
    },
    {
      "cell_type": "markdown",
      "source": [
        "# Data Preparation"
      ],
      "metadata": {
        "id": "rRSQq399ueKq"
      }
    },
    {
      "cell_type": "code",
      "source": [
        "df.head()"
      ],
      "metadata": {
        "colab": {
          "base_uri": "https://localhost:8080/",
          "height": 206
        },
        "id": "k9z-yO7iu57q",
        "outputId": "bbb42ca2-1485-451d-ec7b-f581d7031cb6"
      },
      "execution_count": 19,
      "outputs": [
        {
          "output_type": "execute_result",
          "data": {
            "text/plain": [
              "   Season_End_Year  Wk        Date            Home  HomeGoals  AwayGoals  \\\n",
              "0             1993   1  1992-08-15   Coventry City          2          1   \n",
              "1             1993   1  1992-08-15    Leeds United          2          1   \n",
              "2             1993   1  1992-08-15   Sheffield Utd          2          1   \n",
              "3             1993   1  1992-08-15  Crystal Palace          3          3   \n",
              "4             1993   1  1992-08-15         Arsenal          2          4   \n",
              "\n",
              "             Away FTR  \n",
              "0   Middlesbrough   H  \n",
              "1       Wimbledon   H  \n",
              "2  Manchester Utd   H  \n",
              "3       Blackburn   D  \n",
              "4    Norwich City   A  "
            ],
            "text/html": [
              "\n",
              "  <div id=\"df-9014eeea-6d0b-4727-a887-f1233904e46e\">\n",
              "    <div class=\"colab-df-container\">\n",
              "      <div>\n",
              "<style scoped>\n",
              "    .dataframe tbody tr th:only-of-type {\n",
              "        vertical-align: middle;\n",
              "    }\n",
              "\n",
              "    .dataframe tbody tr th {\n",
              "        vertical-align: top;\n",
              "    }\n",
              "\n",
              "    .dataframe thead th {\n",
              "        text-align: right;\n",
              "    }\n",
              "</style>\n",
              "<table border=\"1\" class=\"dataframe\">\n",
              "  <thead>\n",
              "    <tr style=\"text-align: right;\">\n",
              "      <th></th>\n",
              "      <th>Season_End_Year</th>\n",
              "      <th>Wk</th>\n",
              "      <th>Date</th>\n",
              "      <th>Home</th>\n",
              "      <th>HomeGoals</th>\n",
              "      <th>AwayGoals</th>\n",
              "      <th>Away</th>\n",
              "      <th>FTR</th>\n",
              "    </tr>\n",
              "  </thead>\n",
              "  <tbody>\n",
              "    <tr>\n",
              "      <th>0</th>\n",
              "      <td>1993</td>\n",
              "      <td>1</td>\n",
              "      <td>1992-08-15</td>\n",
              "      <td>Coventry City</td>\n",
              "      <td>2</td>\n",
              "      <td>1</td>\n",
              "      <td>Middlesbrough</td>\n",
              "      <td>H</td>\n",
              "    </tr>\n",
              "    <tr>\n",
              "      <th>1</th>\n",
              "      <td>1993</td>\n",
              "      <td>1</td>\n",
              "      <td>1992-08-15</td>\n",
              "      <td>Leeds United</td>\n",
              "      <td>2</td>\n",
              "      <td>1</td>\n",
              "      <td>Wimbledon</td>\n",
              "      <td>H</td>\n",
              "    </tr>\n",
              "    <tr>\n",
              "      <th>2</th>\n",
              "      <td>1993</td>\n",
              "      <td>1</td>\n",
              "      <td>1992-08-15</td>\n",
              "      <td>Sheffield Utd</td>\n",
              "      <td>2</td>\n",
              "      <td>1</td>\n",
              "      <td>Manchester Utd</td>\n",
              "      <td>H</td>\n",
              "    </tr>\n",
              "    <tr>\n",
              "      <th>3</th>\n",
              "      <td>1993</td>\n",
              "      <td>1</td>\n",
              "      <td>1992-08-15</td>\n",
              "      <td>Crystal Palace</td>\n",
              "      <td>3</td>\n",
              "      <td>3</td>\n",
              "      <td>Blackburn</td>\n",
              "      <td>D</td>\n",
              "    </tr>\n",
              "    <tr>\n",
              "      <th>4</th>\n",
              "      <td>1993</td>\n",
              "      <td>1</td>\n",
              "      <td>1992-08-15</td>\n",
              "      <td>Arsenal</td>\n",
              "      <td>2</td>\n",
              "      <td>4</td>\n",
              "      <td>Norwich City</td>\n",
              "      <td>A</td>\n",
              "    </tr>\n",
              "  </tbody>\n",
              "</table>\n",
              "</div>\n",
              "      <button class=\"colab-df-convert\" onclick=\"convertToInteractive('df-9014eeea-6d0b-4727-a887-f1233904e46e')\"\n",
              "              title=\"Convert this dataframe to an interactive table.\"\n",
              "              style=\"display:none;\">\n",
              "        \n",
              "  <svg xmlns=\"http://www.w3.org/2000/svg\" height=\"24px\"viewBox=\"0 0 24 24\"\n",
              "       width=\"24px\">\n",
              "    <path d=\"M0 0h24v24H0V0z\" fill=\"none\"/>\n",
              "    <path d=\"M18.56 5.44l.94 2.06.94-2.06 2.06-.94-2.06-.94-.94-2.06-.94 2.06-2.06.94zm-11 1L8.5 8.5l.94-2.06 2.06-.94-2.06-.94L8.5 2.5l-.94 2.06-2.06.94zm10 10l.94 2.06.94-2.06 2.06-.94-2.06-.94-.94-2.06-.94 2.06-2.06.94z\"/><path d=\"M17.41 7.96l-1.37-1.37c-.4-.4-.92-.59-1.43-.59-.52 0-1.04.2-1.43.59L10.3 9.45l-7.72 7.72c-.78.78-.78 2.05 0 2.83L4 21.41c.39.39.9.59 1.41.59.51 0 1.02-.2 1.41-.59l7.78-7.78 2.81-2.81c.8-.78.8-2.07 0-2.86zM5.41 20L4 18.59l7.72-7.72 1.47 1.35L5.41 20z\"/>\n",
              "  </svg>\n",
              "      </button>\n",
              "      \n",
              "  <style>\n",
              "    .colab-df-container {\n",
              "      display:flex;\n",
              "      flex-wrap:wrap;\n",
              "      gap: 12px;\n",
              "    }\n",
              "\n",
              "    .colab-df-convert {\n",
              "      background-color: #E8F0FE;\n",
              "      border: none;\n",
              "      border-radius: 50%;\n",
              "      cursor: pointer;\n",
              "      display: none;\n",
              "      fill: #1967D2;\n",
              "      height: 32px;\n",
              "      padding: 0 0 0 0;\n",
              "      width: 32px;\n",
              "    }\n",
              "\n",
              "    .colab-df-convert:hover {\n",
              "      background-color: #E2EBFA;\n",
              "      box-shadow: 0px 1px 2px rgba(60, 64, 67, 0.3), 0px 1px 3px 1px rgba(60, 64, 67, 0.15);\n",
              "      fill: #174EA6;\n",
              "    }\n",
              "\n",
              "    [theme=dark] .colab-df-convert {\n",
              "      background-color: #3B4455;\n",
              "      fill: #D2E3FC;\n",
              "    }\n",
              "\n",
              "    [theme=dark] .colab-df-convert:hover {\n",
              "      background-color: #434B5C;\n",
              "      box-shadow: 0px 1px 3px 1px rgba(0, 0, 0, 0.15);\n",
              "      filter: drop-shadow(0px 1px 2px rgba(0, 0, 0, 0.3));\n",
              "      fill: #FFFFFF;\n",
              "    }\n",
              "  </style>\n",
              "\n",
              "      <script>\n",
              "        const buttonEl =\n",
              "          document.querySelector('#df-9014eeea-6d0b-4727-a887-f1233904e46e button.colab-df-convert');\n",
              "        buttonEl.style.display =\n",
              "          google.colab.kernel.accessAllowed ? 'block' : 'none';\n",
              "\n",
              "        async function convertToInteractive(key) {\n",
              "          const element = document.querySelector('#df-9014eeea-6d0b-4727-a887-f1233904e46e');\n",
              "          const dataTable =\n",
              "            await google.colab.kernel.invokeFunction('convertToInteractive',\n",
              "                                                     [key], {});\n",
              "          if (!dataTable) return;\n",
              "\n",
              "          const docLinkHtml = 'Like what you see? Visit the ' +\n",
              "            '<a target=\"_blank\" href=https://colab.research.google.com/notebooks/data_table.ipynb>data table notebook</a>'\n",
              "            + ' to learn more about interactive tables.';\n",
              "          element.innerHTML = '';\n",
              "          dataTable['output_type'] = 'display_data';\n",
              "          await google.colab.output.renderOutput(dataTable, element);\n",
              "          const docLink = document.createElement('div');\n",
              "          docLink.innerHTML = docLinkHtml;\n",
              "          element.appendChild(docLink);\n",
              "        }\n",
              "      </script>\n",
              "    </div>\n",
              "  </div>\n",
              "  "
            ]
          },
          "metadata": {},
          "execution_count": 19
        }
      ]
    },
    {
      "cell_type": "markdown",
      "source": [
        "## Selecting data from the last decade (2011-2022)"
      ],
      "metadata": {
        "id": "Ah6Usv7Zu711"
      }
    },
    {
      "cell_type": "code",
      "source": [
        "df.info()"
      ],
      "metadata": {
        "colab": {
          "base_uri": "https://localhost:8080/"
        },
        "id": "fMF1FcJovmy3",
        "outputId": "f518abb5-36f6-4092-93b0-3c8340b8a402"
      },
      "execution_count": 31,
      "outputs": [
        {
          "output_type": "stream",
          "name": "stdout",
          "text": [
            "<class 'pandas.core.frame.DataFrame'>\n",
            "RangeIndex: 11646 entries, 0 to 11645\n",
            "Data columns (total 8 columns):\n",
            " #   Column           Non-Null Count  Dtype \n",
            "---  ------           --------------  ----- \n",
            " 0   Season_End_Year  11646 non-null  int64 \n",
            " 1   Wk               11646 non-null  int64 \n",
            " 2   Date             11646 non-null  object\n",
            " 3   Home             11646 non-null  object\n",
            " 4   HomeGoals        11646 non-null  int64 \n",
            " 5   AwayGoals        11646 non-null  int64 \n",
            " 6   Away             11646 non-null  object\n",
            " 7   FTR              11646 non-null  object\n",
            "dtypes: int64(4), object(4)\n",
            "memory usage: 728.0+ KB\n"
          ]
        }
      ]
    },
    {
      "cell_type": "code",
      "source": [
        "df = df[(df.Season_End_Year>=2011) & (df.Season_End_Year<=2022)]"
      ],
      "metadata": {
        "id": "BFF9djz1vSZr"
      },
      "execution_count": 34,
      "outputs": []
    },
    {
      "cell_type": "code",
      "source": [
        "# A sanity check\n",
        "df.Season_End_Year.head(), df.Season_End_Year.tail()"
      ],
      "metadata": {
        "colab": {
          "base_uri": "https://localhost:8080/"
        },
        "id": "IMAF4H6xvYP-",
        "outputId": "cb9f61f4-33c0-440b-c783-f328101800c1"
      },
      "execution_count": 35,
      "outputs": [
        {
          "output_type": "execute_result",
          "data": {
            "text/plain": [
              "(7086    2011\n",
              " 7087    2011\n",
              " 7088    2011\n",
              " 7089    2011\n",
              " 7090    2011\n",
              " Name: Season_End_Year, dtype: int64, 11641    2022\n",
              " 11642    2022\n",
              " 11643    2022\n",
              " 11644    2022\n",
              " 11645    2022\n",
              " Name: Season_End_Year, dtype: int64)"
            ]
          },
          "metadata": {},
          "execution_count": 35
        }
      ]
    },
    {
      "cell_type": "code",
      "source": [
        "df.head()"
      ],
      "metadata": {
        "colab": {
          "base_uri": "https://localhost:8080/",
          "height": 206
        },
        "id": "DWWvHN8GwdQJ",
        "outputId": "bdbd66b6-7d65-41ef-f939-11df786e0bf6"
      },
      "execution_count": 36,
      "outputs": [
        {
          "output_type": "execute_result",
          "data": {
            "text/plain": [
              "      Season_End_Year  Wk        Date            Home  HomeGoals  AwayGoals  \\\n",
              "7086             2011   1  2010-08-14          Bolton          0          0   \n",
              "7087             2011   1  2010-08-14  Wigan Athletic          0          4   \n",
              "7088             2011   1  2010-08-14       Tottenham          0          0   \n",
              "7089             2011   1  2010-08-14     Aston Villa          3          0   \n",
              "7090             2011   1  2010-08-14         Chelsea          6          0   \n",
              "\n",
              "                 Away FTR  \n",
              "7086           Fulham   D  \n",
              "7087        Blackpool   A  \n",
              "7088  Manchester City   D  \n",
              "7089         West Ham   H  \n",
              "7090        West Brom   H  "
            ],
            "text/html": [
              "\n",
              "  <div id=\"df-5ad01652-49c3-407a-b6d4-f8f4208d8129\">\n",
              "    <div class=\"colab-df-container\">\n",
              "      <div>\n",
              "<style scoped>\n",
              "    .dataframe tbody tr th:only-of-type {\n",
              "        vertical-align: middle;\n",
              "    }\n",
              "\n",
              "    .dataframe tbody tr th {\n",
              "        vertical-align: top;\n",
              "    }\n",
              "\n",
              "    .dataframe thead th {\n",
              "        text-align: right;\n",
              "    }\n",
              "</style>\n",
              "<table border=\"1\" class=\"dataframe\">\n",
              "  <thead>\n",
              "    <tr style=\"text-align: right;\">\n",
              "      <th></th>\n",
              "      <th>Season_End_Year</th>\n",
              "      <th>Wk</th>\n",
              "      <th>Date</th>\n",
              "      <th>Home</th>\n",
              "      <th>HomeGoals</th>\n",
              "      <th>AwayGoals</th>\n",
              "      <th>Away</th>\n",
              "      <th>FTR</th>\n",
              "    </tr>\n",
              "  </thead>\n",
              "  <tbody>\n",
              "    <tr>\n",
              "      <th>7086</th>\n",
              "      <td>2011</td>\n",
              "      <td>1</td>\n",
              "      <td>2010-08-14</td>\n",
              "      <td>Bolton</td>\n",
              "      <td>0</td>\n",
              "      <td>0</td>\n",
              "      <td>Fulham</td>\n",
              "      <td>D</td>\n",
              "    </tr>\n",
              "    <tr>\n",
              "      <th>7087</th>\n",
              "      <td>2011</td>\n",
              "      <td>1</td>\n",
              "      <td>2010-08-14</td>\n",
              "      <td>Wigan Athletic</td>\n",
              "      <td>0</td>\n",
              "      <td>4</td>\n",
              "      <td>Blackpool</td>\n",
              "      <td>A</td>\n",
              "    </tr>\n",
              "    <tr>\n",
              "      <th>7088</th>\n",
              "      <td>2011</td>\n",
              "      <td>1</td>\n",
              "      <td>2010-08-14</td>\n",
              "      <td>Tottenham</td>\n",
              "      <td>0</td>\n",
              "      <td>0</td>\n",
              "      <td>Manchester City</td>\n",
              "      <td>D</td>\n",
              "    </tr>\n",
              "    <tr>\n",
              "      <th>7089</th>\n",
              "      <td>2011</td>\n",
              "      <td>1</td>\n",
              "      <td>2010-08-14</td>\n",
              "      <td>Aston Villa</td>\n",
              "      <td>3</td>\n",
              "      <td>0</td>\n",
              "      <td>West Ham</td>\n",
              "      <td>H</td>\n",
              "    </tr>\n",
              "    <tr>\n",
              "      <th>7090</th>\n",
              "      <td>2011</td>\n",
              "      <td>1</td>\n",
              "      <td>2010-08-14</td>\n",
              "      <td>Chelsea</td>\n",
              "      <td>6</td>\n",
              "      <td>0</td>\n",
              "      <td>West Brom</td>\n",
              "      <td>H</td>\n",
              "    </tr>\n",
              "  </tbody>\n",
              "</table>\n",
              "</div>\n",
              "      <button class=\"colab-df-convert\" onclick=\"convertToInteractive('df-5ad01652-49c3-407a-b6d4-f8f4208d8129')\"\n",
              "              title=\"Convert this dataframe to an interactive table.\"\n",
              "              style=\"display:none;\">\n",
              "        \n",
              "  <svg xmlns=\"http://www.w3.org/2000/svg\" height=\"24px\"viewBox=\"0 0 24 24\"\n",
              "       width=\"24px\">\n",
              "    <path d=\"M0 0h24v24H0V0z\" fill=\"none\"/>\n",
              "    <path d=\"M18.56 5.44l.94 2.06.94-2.06 2.06-.94-2.06-.94-.94-2.06-.94 2.06-2.06.94zm-11 1L8.5 8.5l.94-2.06 2.06-.94-2.06-.94L8.5 2.5l-.94 2.06-2.06.94zm10 10l.94 2.06.94-2.06 2.06-.94-2.06-.94-.94-2.06-.94 2.06-2.06.94z\"/><path d=\"M17.41 7.96l-1.37-1.37c-.4-.4-.92-.59-1.43-.59-.52 0-1.04.2-1.43.59L10.3 9.45l-7.72 7.72c-.78.78-.78 2.05 0 2.83L4 21.41c.39.39.9.59 1.41.59.51 0 1.02-.2 1.41-.59l7.78-7.78 2.81-2.81c.8-.78.8-2.07 0-2.86zM5.41 20L4 18.59l7.72-7.72 1.47 1.35L5.41 20z\"/>\n",
              "  </svg>\n",
              "      </button>\n",
              "      \n",
              "  <style>\n",
              "    .colab-df-container {\n",
              "      display:flex;\n",
              "      flex-wrap:wrap;\n",
              "      gap: 12px;\n",
              "    }\n",
              "\n",
              "    .colab-df-convert {\n",
              "      background-color: #E8F0FE;\n",
              "      border: none;\n",
              "      border-radius: 50%;\n",
              "      cursor: pointer;\n",
              "      display: none;\n",
              "      fill: #1967D2;\n",
              "      height: 32px;\n",
              "      padding: 0 0 0 0;\n",
              "      width: 32px;\n",
              "    }\n",
              "\n",
              "    .colab-df-convert:hover {\n",
              "      background-color: #E2EBFA;\n",
              "      box-shadow: 0px 1px 2px rgba(60, 64, 67, 0.3), 0px 1px 3px 1px rgba(60, 64, 67, 0.15);\n",
              "      fill: #174EA6;\n",
              "    }\n",
              "\n",
              "    [theme=dark] .colab-df-convert {\n",
              "      background-color: #3B4455;\n",
              "      fill: #D2E3FC;\n",
              "    }\n",
              "\n",
              "    [theme=dark] .colab-df-convert:hover {\n",
              "      background-color: #434B5C;\n",
              "      box-shadow: 0px 1px 3px 1px rgba(0, 0, 0, 0.15);\n",
              "      filter: drop-shadow(0px 1px 2px rgba(0, 0, 0, 0.3));\n",
              "      fill: #FFFFFF;\n",
              "    }\n",
              "  </style>\n",
              "\n",
              "      <script>\n",
              "        const buttonEl =\n",
              "          document.querySelector('#df-5ad01652-49c3-407a-b6d4-f8f4208d8129 button.colab-df-convert');\n",
              "        buttonEl.style.display =\n",
              "          google.colab.kernel.accessAllowed ? 'block' : 'none';\n",
              "\n",
              "        async function convertToInteractive(key) {\n",
              "          const element = document.querySelector('#df-5ad01652-49c3-407a-b6d4-f8f4208d8129');\n",
              "          const dataTable =\n",
              "            await google.colab.kernel.invokeFunction('convertToInteractive',\n",
              "                                                     [key], {});\n",
              "          if (!dataTable) return;\n",
              "\n",
              "          const docLinkHtml = 'Like what you see? Visit the ' +\n",
              "            '<a target=\"_blank\" href=https://colab.research.google.com/notebooks/data_table.ipynb>data table notebook</a>'\n",
              "            + ' to learn more about interactive tables.';\n",
              "          element.innerHTML = '';\n",
              "          dataTable['output_type'] = 'display_data';\n",
              "          await google.colab.output.renderOutput(dataTable, element);\n",
              "          const docLink = document.createElement('div');\n",
              "          docLink.innerHTML = docLinkHtml;\n",
              "          element.appendChild(docLink);\n",
              "        }\n",
              "      </script>\n",
              "    </div>\n",
              "  </div>\n",
              "  "
            ]
          },
          "metadata": {},
          "execution_count": 36
        }
      ]
    },
    {
      "cell_type": "code",
      "source": [],
      "metadata": {
        "id": "jEcaqDq9wkn9"
      },
      "execution_count": null,
      "outputs": []
    }
  ]
}